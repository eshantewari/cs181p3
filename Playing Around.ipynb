{
 "cells": [
  {
   "cell_type": "code",
   "execution_count": 1,
   "metadata": {
    "collapsed": true
   },
   "outputs": [],
   "source": [
    "# import pandas as pd\n",
    "# %matplotlib inline\n",
    "# import re\n",
    "import numpy as np\n",
    "import pandas as pd\n",
    "# import string\n",
    "# import matplotlib.pyplot as plt\n",
    "# import librosa\n",
    "# import librosa.display\n",
    "# import IPython.display as ipd\n",
    "# import numpy\n",
    "# import torch"
   ]
  },
  {
   "cell_type": "code",
   "execution_count": 5,
   "metadata": {
    "collapsed": true
   },
   "outputs": [],
   "source": [
    "data = pd.read_csv(\"train.csv.gz\", header = None, nrows = 5)"
   ]
  },
  {
   "cell_type": "code",
   "execution_count": 6,
   "metadata": {},
   "outputs": [
    {
     "data": {
      "text/html": [
       "<div>\n",
       "<style>\n",
       "    .dataframe thead tr:only-child th {\n",
       "        text-align: right;\n",
       "    }\n",
       "\n",
       "    .dataframe thead th {\n",
       "        text-align: left;\n",
       "    }\n",
       "\n",
       "    .dataframe tbody tr th {\n",
       "        vertical-align: top;\n",
       "    }\n",
       "</style>\n",
       "<table border=\"1\" class=\"dataframe\">\n",
       "  <thead>\n",
       "    <tr style=\"text-align: right;\">\n",
       "      <th></th>\n",
       "      <th>0</th>\n",
       "      <th>1</th>\n",
       "      <th>2</th>\n",
       "      <th>3</th>\n",
       "      <th>4</th>\n",
       "      <th>5</th>\n",
       "      <th>6</th>\n",
       "      <th>7</th>\n",
       "      <th>8</th>\n",
       "      <th>9</th>\n",
       "      <th>...</th>\n",
       "      <th>88191</th>\n",
       "      <th>88192</th>\n",
       "      <th>88193</th>\n",
       "      <th>88194</th>\n",
       "      <th>88195</th>\n",
       "      <th>88196</th>\n",
       "      <th>88197</th>\n",
       "      <th>88198</th>\n",
       "      <th>88199</th>\n",
       "      <th>88200</th>\n",
       "    </tr>\n",
       "  </thead>\n",
       "  <tbody>\n",
       "    <tr>\n",
       "      <th>0</th>\n",
       "      <td>-0.046627</td>\n",
       "      <td>-0.053661</td>\n",
       "      <td>-0.016606</td>\n",
       "      <td>-0.008460</td>\n",
       "      <td>-0.014638</td>\n",
       "      <td>-0.035218</td>\n",
       "      <td>-0.047178</td>\n",
       "      <td>-0.056229</td>\n",
       "      <td>-0.058350</td>\n",
       "      <td>-0.062226</td>\n",
       "      <td>...</td>\n",
       "      <td>-0.056585</td>\n",
       "      <td>-0.058592</td>\n",
       "      <td>-0.056084</td>\n",
       "      <td>-0.042918</td>\n",
       "      <td>-0.051984</td>\n",
       "      <td>-0.037560</td>\n",
       "      <td>-0.036154</td>\n",
       "      <td>-0.036979</td>\n",
       "      <td>-0.027567</td>\n",
       "      <td>5.0</td>\n",
       "    </tr>\n",
       "    <tr>\n",
       "      <th>1</th>\n",
       "      <td>0.000000</td>\n",
       "      <td>0.000712</td>\n",
       "      <td>0.001424</td>\n",
       "      <td>0.002135</td>\n",
       "      <td>0.002843</td>\n",
       "      <td>0.003550</td>\n",
       "      <td>0.004253</td>\n",
       "      <td>0.004954</td>\n",
       "      <td>0.005650</td>\n",
       "      <td>0.006341</td>\n",
       "      <td>...</td>\n",
       "      <td>-0.006341</td>\n",
       "      <td>-0.005650</td>\n",
       "      <td>-0.004954</td>\n",
       "      <td>-0.004253</td>\n",
       "      <td>-0.003550</td>\n",
       "      <td>-0.002843</td>\n",
       "      <td>-0.002135</td>\n",
       "      <td>-0.001424</td>\n",
       "      <td>-0.000712</td>\n",
       "      <td>0.0</td>\n",
       "    </tr>\n",
       "    <tr>\n",
       "      <th>2</th>\n",
       "      <td>0.015198</td>\n",
       "      <td>0.028053</td>\n",
       "      <td>0.027532</td>\n",
       "      <td>0.028745</td>\n",
       "      <td>0.024490</td>\n",
       "      <td>0.021514</td>\n",
       "      <td>0.017232</td>\n",
       "      <td>0.015572</td>\n",
       "      <td>0.014204</td>\n",
       "      <td>0.014561</td>\n",
       "      <td>...</td>\n",
       "      <td>-0.014135</td>\n",
       "      <td>-0.018649</td>\n",
       "      <td>-0.021481</td>\n",
       "      <td>-0.022629</td>\n",
       "      <td>-0.019144</td>\n",
       "      <td>-0.017117</td>\n",
       "      <td>-0.013521</td>\n",
       "      <td>-0.008887</td>\n",
       "      <td>-0.003531</td>\n",
       "      <td>8.0</td>\n",
       "    </tr>\n",
       "    <tr>\n",
       "      <th>3</th>\n",
       "      <td>-0.052935</td>\n",
       "      <td>-0.061702</td>\n",
       "      <td>-0.060131</td>\n",
       "      <td>-0.040481</td>\n",
       "      <td>0.029915</td>\n",
       "      <td>0.112537</td>\n",
       "      <td>0.198678</td>\n",
       "      <td>0.217514</td>\n",
       "      <td>0.180841</td>\n",
       "      <td>0.082558</td>\n",
       "      <td>...</td>\n",
       "      <td>0.013204</td>\n",
       "      <td>-0.003309</td>\n",
       "      <td>-0.013274</td>\n",
       "      <td>0.005676</td>\n",
       "      <td>0.031212</td>\n",
       "      <td>0.054739</td>\n",
       "      <td>0.070668</td>\n",
       "      <td>0.078661</td>\n",
       "      <td>0.097999</td>\n",
       "      <td>8.0</td>\n",
       "    </tr>\n",
       "    <tr>\n",
       "      <th>4</th>\n",
       "      <td>0.000218</td>\n",
       "      <td>0.006255</td>\n",
       "      <td>0.011420</td>\n",
       "      <td>0.015926</td>\n",
       "      <td>0.018090</td>\n",
       "      <td>0.018111</td>\n",
       "      <td>0.017685</td>\n",
       "      <td>0.017037</td>\n",
       "      <td>0.018973</td>\n",
       "      <td>0.020819</td>\n",
       "      <td>...</td>\n",
       "      <td>-0.007386</td>\n",
       "      <td>-0.009816</td>\n",
       "      <td>-0.012220</td>\n",
       "      <td>-0.013219</td>\n",
       "      <td>-0.001098</td>\n",
       "      <td>0.000035</td>\n",
       "      <td>0.000455</td>\n",
       "      <td>0.001339</td>\n",
       "      <td>0.003039</td>\n",
       "      <td>5.0</td>\n",
       "    </tr>\n",
       "  </tbody>\n",
       "</table>\n",
       "<p>5 rows × 88201 columns</p>\n",
       "</div>"
      ],
      "text/plain": [
       "      0         1         2         3         4         5         6      \\\n",
       "0 -0.046627 -0.053661 -0.016606 -0.008460 -0.014638 -0.035218 -0.047178   \n",
       "1  0.000000  0.000712  0.001424  0.002135  0.002843  0.003550  0.004253   \n",
       "2  0.015198  0.028053  0.027532  0.028745  0.024490  0.021514  0.017232   \n",
       "3 -0.052935 -0.061702 -0.060131 -0.040481  0.029915  0.112537  0.198678   \n",
       "4  0.000218  0.006255  0.011420  0.015926  0.018090  0.018111  0.017685   \n",
       "\n",
       "      7         8         9      ...       88191     88192     88193  \\\n",
       "0 -0.056229 -0.058350 -0.062226  ...   -0.056585 -0.058592 -0.056084   \n",
       "1  0.004954  0.005650  0.006341  ...   -0.006341 -0.005650 -0.004954   \n",
       "2  0.015572  0.014204  0.014561  ...   -0.014135 -0.018649 -0.021481   \n",
       "3  0.217514  0.180841  0.082558  ...    0.013204 -0.003309 -0.013274   \n",
       "4  0.017037  0.018973  0.020819  ...   -0.007386 -0.009816 -0.012220   \n",
       "\n",
       "      88194     88195     88196     88197     88198     88199  88200  \n",
       "0 -0.042918 -0.051984 -0.037560 -0.036154 -0.036979 -0.027567    5.0  \n",
       "1 -0.004253 -0.003550 -0.002843 -0.002135 -0.001424 -0.000712    0.0  \n",
       "2 -0.022629 -0.019144 -0.017117 -0.013521 -0.008887 -0.003531    8.0  \n",
       "3  0.005676  0.031212  0.054739  0.070668  0.078661  0.097999    8.0  \n",
       "4 -0.013219 -0.001098  0.000035  0.000455  0.001339  0.003039    5.0  \n",
       "\n",
       "[5 rows x 88201 columns]"
      ]
     },
     "execution_count": 6,
     "metadata": {},
     "output_type": "execute_result"
    }
   ],
   "source": [
    "data"
   ]
  },
  {
   "cell_type": "code",
   "execution_count": 11,
   "metadata": {},
   "outputs": [
    {
     "name": "stdout",
     "output_type": "stream",
     "text": [
      "Train shape (5, 88200)\n"
     ]
    }
   ],
   "source": [
    "train = data.iloc[:,1:].values\n",
    "print(\"Train shape\",train.shape)\n",
    "N_train = train.shape[0] #Same as N\n",
    "NUM_SAMPLES = train.shape[1]-1 #Number of columns, sans the class label"
   ]
  },
  {
   "cell_type": "code",
   "execution_count": null,
   "metadata": {},
   "outputs": [],
   "source": [
    "data = pd.read_csv(\"train_10.csv\", header=None)"
   ]
  },
  {
   "cell_type": "code",
   "execution_count": null,
   "metadata": {
    "collapsed": true
   },
   "outputs": [],
   "source": []
  },
  {
   "cell_type": "code",
   "execution_count": null,
   "metadata": {},
   "outputs": [],
   "source": [
    "data.head()"
   ]
  },
  {
   "cell_type": "code",
   "execution_count": null,
   "metadata": {},
   "outputs": [],
   "source": [
    "# Just some re-shaping and dimension finding\n",
    "\n",
    "N = 500 #Number of samples we are using\n",
    "print(\"N:\",N)\n",
    "train = data.iloc[0:N,1:].values\n",
    "print(\"Train shape\",train.shape)\n",
    "N_train = train.shape[0] #Same as N\n",
    "NUM_SAMPLES = train.shape[1]-1 #Number of columns, sans the class label\n",
    "\n",
    "X_train = train[:,:-1]\n",
    "y_train = train[:,-1]\n",
    "y_train = y_train.reshape(N_train,1)"
   ]
  },
  {
   "cell_type": "code",
   "execution_count": null,
   "metadata": {},
   "outputs": [],
   "source": [
    "SAMPLE_RATE = 22050\n",
    "song = X_train[1]\n",
    "song_int = (32768*song).astype(np.int16)\n",
    "print(song_int.dtype)\n",
    "print(max(song_int))\n",
    "print(min(song_int))\n",
    "ipd.Audio(song_int, rate=SAMPLE_RATE)"
   ]
  },
  {
   "cell_type": "code",
   "execution_count": null,
   "metadata": {
    "collapsed": true
   },
   "outputs": [],
   "source": [
    "from scipy.io.wavfile import write\n",
    "\n",
    "\n",
    "for i in range(0, X_train.shape[0]):\n",
    "    write(\"WaveFiles/xtrain_\"+str(i)+\".wav\", SAMPLE_RATE, (32768*X_train[i]).astype(np.int16))\n",
    "\n",
    "\n"
   ]
  },
  {
   "cell_type": "code",
   "execution_count": null,
   "metadata": {
    "collapsed": true
   },
   "outputs": [],
   "source": [
    "# JUST SOME FOURIER TRANSFORM PARAMETERS\n",
    "SAMPLE_RATE = 22050\n",
    "BINS_OCTAVE = 12*2\n",
    "N_OCTAVES = 7\n",
    "NUM_BINS = BINS_OCTAVE * N_OCTAVES"
   ]
  },
  {
   "cell_type": "code",
   "execution_count": null,
   "metadata": {
    "collapsed": true
   },
   "outputs": [],
   "source": [
    "# Given a wav time series, makes a mel spectrogram\n",
    "# which is a short-time fourier transform with\n",
    "# frequencies on the mel (log) scale.\n",
    "def mel_spec(y):\n",
    "    Q = librosa.cqt(y=y, sr=SAMPLE_RATE, bins_per_octave=BINS_OCTAVE,n_bins=NUM_BINS)\n",
    "    Q_db = librosa.amplitude_to_db(Q,ref=np.max)\n",
    "    return Q_db"
   ]
  },
  {
   "cell_type": "code",
   "execution_count": null,
   "metadata": {
    "collapsed": true
   },
   "outputs": [],
   "source": [
    "# This means that the spectrograms are 168 rows (frequencies)\n",
    "# By 173 columns (time frames)\n",
    "song = X_train[0]\n",
    "test_spec = mel_spec(song)\n",
    "print(test_spec.shape)\n",
    "FEATS = test_spec.shape[0]\n",
    "FRAMES = test_spec.shape[1]"
   ]
  },
  {
   "cell_type": "code",
   "execution_count": null,
   "metadata": {
    "collapsed": true
   },
   "outputs": [],
   "source": [
    "#This creates a tensor, in which we have N_train examples, each of which is a mel-frequency \"image\"\n",
    "\n",
    "tmp_train = np.zeros((N_train,FEATS,FRAMES))\n",
    "for i in range(N_train):\n",
    "    tmp_train[i,:,:] = mel_spec(X_train[i])\n",
    "\n"
   ]
  },
  {
   "cell_type": "code",
   "execution_count": null,
   "metadata": {
    "collapsed": true
   },
   "outputs": [],
   "source": [
    "#Save the tensor, so that we can load it into other models\n",
    "np.save('Data/xtrain_spec', tmp_train)\n",
    "np.save('Data/ytrain_spec', y_train)"
   ]
  },
  {
   "cell_type": "code",
   "execution_count": null,
   "metadata": {
    "collapsed": true
   },
   "outputs": [],
   "source": [
    "librosa.display.specshow(tmp_train[0], y_axis='hz')"
   ]
  },
  {
   "cell_type": "code",
   "execution_count": null,
   "metadata": {
    "collapsed": true
   },
   "outputs": [],
   "source": []
  }
 ],
 "metadata": {
  "kernelspec": {
   "display_name": "Python 3",
   "language": "python",
   "name": "python3"
  },
  "language_info": {
   "codemirror_mode": {
    "name": "ipython",
    "version": 3
   },
   "file_extension": ".py",
   "mimetype": "text/x-python",
   "name": "python",
   "nbconvert_exporter": "python",
   "pygments_lexer": "ipython3",
   "version": "3.6.1"
  }
 },
 "nbformat": 4,
 "nbformat_minor": 2
}
