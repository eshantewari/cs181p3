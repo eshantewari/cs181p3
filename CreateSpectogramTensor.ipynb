{
 "cells": [
  {
   "cell_type": "code",
   "execution_count": 2,
   "metadata": {},
   "outputs": [
    {
     "name": "stdout",
     "output_type": "stream",
     "text": [
      "N: 500\n",
      "Train shape (500, 88202)\n"
     ]
    },
    {
     "name": "stderr",
     "output_type": "stream",
     "text": [
      "/Users/eshan/anaconda/lib/python3.6/site-packages/librosa/core/spectrum.py:958: UserWarning: amplitude_to_db was called on complex input so phase information will be discarded. To suppress this warning, call amplitude_to_db(magphase(D)[0]) instead.\n",
      "  warnings.warn('amplitude_to_db was called on complex input so phase '\n"
     ]
    }
   ],
   "source": [
    "import pandas as pd\n",
    "%matplotlib inline\n",
    "import re\n",
    "import numpy as np\n",
    "import pandas as pd\n",
    "import string\n",
    "import matplotlib.pyplot as plt\n",
    "import librosa\n",
    "import librosa.display\n",
    "import IPython.display as ipd\n",
    "import numpy\n",
    "import torch\n",
    "\n",
    "#Change the Filename\n",
    "data = pd.read_csv(\"train_500.csv\")\n",
    "\n",
    "N = len(data) #Number of samples we are using\n",
    "print(\"N:\",N)\n",
    "train = data.iloc[0:N][:].values\n",
    "print(\"Train shape\",train.shape)\n",
    "N_train = train.shape[0] #Same as N\n",
    "NUM_SAMPLES = train.shape[1]-1 #Number of columns, sans the class label\n",
    "\n",
    "X_train = train[:,:-1]\n",
    "y_train = train[:,-1]\n",
    "y_train = y_train.reshape(N_train,1)\n",
    "\n",
    "# JUST SOME FOURIER TRANSFORM PARAMETERS\n",
    "SAMPLE_RATE = 22050\n",
    "BINS_OCTAVE = 12*2\n",
    "N_OCTAVES = 7\n",
    "NUM_BINS = BINS_OCTAVE * N_OCTAVES\n",
    "\n",
    "# Given a wav time series, makes a mel spectrogram\n",
    "# which is a short-time fourier transform with\n",
    "# frequencies on the mel (log) scale.\n",
    "def mel_spec(y):\n",
    "    Q = librosa.cqt(y=y, sr=SAMPLE_RATE, bins_per_octave=BINS_OCTAVE,n_bins=NUM_BINS)\n",
    "    Q_db = librosa.amplitude_to_db(Q,ref=np.max)\n",
    "    return Q_db\n",
    "\n",
    "# This means that the spectrograms are 168 rows (frequencies)\n",
    "# By 173 columns (time frames)\n",
    "song = X_train[0]\n",
    "test_spec = mel_spec(song)\n",
    "#print(test_spec.shape)\n",
    "FEATS = test_spec.shape[0]\n",
    "FRAMES = test_spec.shape[1]\n",
    "\n",
    "\n",
    "#This creates a tensor, in which we have N_train examples, each of which is a mel-frequency \"image\"\n",
    "\n",
    "tmp_train = np.zeros((N_train,FEATS,FRAMES))\n",
    "for i in range(N_train):\n",
    "    tmp_train[i,:,:] = mel_spec(X_train[i])\n",
    "\n",
    "#Save the tensor, so that we can load it into other models\n",
    "np.save('Data/xtrain_spec', tmp_train)\n",
    "np.save('Data/ytrain_spec', y_train)\n",
    "\n"
   ]
  },
  {
   "cell_type": "code",
   "execution_count": null,
   "metadata": {
    "collapsed": true
   },
   "outputs": [],
   "source": []
  }
 ],
 "metadata": {
  "kernelspec": {
   "display_name": "Python 3",
   "language": "python",
   "name": "python3"
  },
  "language_info": {
   "codemirror_mode": {
    "name": "ipython",
    "version": 3
   },
   "file_extension": ".py",
   "mimetype": "text/x-python",
   "name": "python",
   "nbconvert_exporter": "python",
   "pygments_lexer": "ipython3",
   "version": "3.6.1"
  }
 },
 "nbformat": 4,
 "nbformat_minor": 2
}
